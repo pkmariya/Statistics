{
  "cells": [
    {
      "cell_type": "markdown",
      "metadata": {
        "id": "view-in-github",
        "colab_type": "text"
      },
      "source": [
        "<a href=\"https://colab.research.google.com/github/pkmariya/Statistics/blob/main/Inferential_Statistics.ipynb\" target=\"_parent\"><img src=\"https://colab.research.google.com/assets/colab-badge.svg\" alt=\"Open In Colab\"/></a>"
      ]
    },
    {
      "cell_type": "markdown",
      "id": "369b2183",
      "metadata": {
        "id": "369b2183"
      },
      "source": [
        "Consider that Walmart's Quality Control department wants to know how much of company’s products in its warehouses are defective. For this, the team can simply select a `small sample of 1000 products` instead of inspecting all the products in the warehouse(which would be impossible to inspect). It can then find the defect rate (i.e., the proportion of defective products) for the sample, based on which it can further infer the defect rate for all the products in the warehouses.\n",
        "\n",
        "This process of deriving insights or drawing inferences from sample data is called `inferential statistics`. Situations like the one above arise all the time in big companies like Amazon and Flipkart, among others."
      ]
    },
    {
      "cell_type": "markdown",
      "id": "4e921b01",
      "metadata": {
        "id": "4e921b01"
      },
      "source": [
        "`Inferential Statistics is used in the industry in multiple ways like:`\n",
        "\n",
        "**1.Finance: Risk Assessment**\n",
        "\n",
        "Financial institutions use inferential statistics to assess and manage risks. This includes predicting market trends, estimating the likelihood of default on loans, and analyzing investment portfolios.\n",
        "\n",
        "**2.Marketing: Consumer Surveys**\n",
        "\n",
        "In marketing, inferential statistics are employed to make inferences about the preferences and behaviors of a target market based on survey data, helping businesses make informed decisions about product development and advertising strategies.\n",
        "\n",
        "**3.Manufacturing: Quality Control**\n",
        "\n",
        "Inferential statistics are used in quality control processes to make inferences about the quality of products based on a sample of items, helping manufacturers maintain consistent product quality.\n",
        "\n",
        "**4.Retail: Demand Forecasting**\n",
        "\n",
        "In retail, inferential statistics are applied to analyze past sales data and make predictions about future demand for products, optimizing inventory management and supply chain logistics.\n",
        "\n",
        "**5.Telecommunications: Network Performance**\n",
        "\n",
        "Telecom companies use inferential statistics to assess network performance by analyzing data from a sample of users, helping them make inferences about the quality and reliability of their services for the entire user base."
      ]
    },
    {
      "cell_type": "markdown",
      "id": "14561359",
      "metadata": {
        "id": "14561359"
      },
      "source": [
        "## <font color = 'Maroon'>Probability\n",
        "\n",
        "Probability can be defined as the measure of certainty(or uncertainty) that a certain event or\n",
        "outcome will occur given a certain random process. It is represented numerically\n",
        "as a number between zero and one. The probabilities of zero and one both represent certainty.\n",
        "\n",
        "**Probability measures the likelihood that an event will occur. Probability values have two properties:**\n",
        "\n",
        "`They always lie in the range of 0 to 1.` The value is 0 when an event is impossible (for example, the probability of you being in India and America at the same time) and 1 when an event is sure to occur (for example, the probability of the sun rising in the East tomorrow).\n",
        "\n",
        "`The sum of the probabilities of all outcomes of an experiment is always 1.` For instance, in a coin toss, there can be two outcomes: heads or tails. Each outcome has a probability of 0.5. Hence, the sum of the probabilities is 0.5 + 0.5 = 1."
      ]
    },
    {
      "cell_type": "markdown",
      "id": "ed483d7b",
      "metadata": {
        "id": "ed483d7b"
      },
      "source": [
        "### Probability Terminologies\n",
        "\n",
        "**Experiment** is a process or action that results in one of several possible outcomes. Examples include tossing a coin, rolling a die, or drawing a card from a deck.\n",
        "\n",
        "**Random Experiment** is an experiment or process for which the outcome cannot be predicted with certainty. Each performance of the experiment is called a trial.\n",
        "\n",
        "**Outcome** is a possible result of an experiment. For example, when rolling a six-sided dice, the possible outcomes are 1, 2, 3, 4, 5, and 6.\n",
        "\n",
        "**Sample Space** is a set of all possible outcomes of an experiment. Tossing two coins : {HH, HT, TT, TH}.\n",
        "\n",
        "**Event** An event is a subset of the sample space. It consists of one or more outcomes. For example, getting an even number when rolling a die is an event that includes the outcomes {2,4,6}.\n",
        "\n",
        "**Favourable Outcome** is an outcome that satisfies the event of interest. For example, if the event is rolling a number greater than 4 on a die, the favorable outcomes are 5 and 6."
      ]
    },
    {
      "cell_type": "markdown",
      "id": "8df17d8e",
      "metadata": {
        "id": "8df17d8e"
      },
      "source": [
        "### Random Variables\n",
        "\n",
        "Random Variables are variables that represent the outcomes of a random experiment. For example, the collection of outcomes of a series of coin tosses is a random Variable. Here the possible set of outcomes are just two - Heads & Tails. If we map Heads to the number 1 and Tails to 0. Then the Random Variable could look something like (1,1,0,1,0,0,1,0) for eight coin flips. The values of a Random\n",
        "Variable can change the next time it is recorded, but they can only contain a specific set of values.\n",
        "\n",
        "A random variable is denoted with a capital letter (typically, X, Y, Z, etc.), and specific values are denoted with lowercase letters (e.g., X = x or X ≤ x).\n",
        "\n",
        "Ex: Tossing two coins together\n",
        "\n",
        "- X=0 if both tosses result in no heads. `P(X=0) = 1/4`\n",
        "- X=1 if one of the tosses results in heads. `P(X=1) = 2/4 = 1/2`\n",
        "- X=2 if both tosses result in heads. `P(X=2) = 1/4`\n",
        "\n",
        "**Random Variables are of two types:**\n",
        "\n",
        "1. **Discrete RV:** They take a fixed set of possible outcomes. Each outcome has an associated probability. `Ex: Number of heads in two tosses, The creditworthiness of a loan applicant, Marital Status, Gender etc.`\n",
        "\n",
        "2. **Continuous RV:** They can take any value within a range. `Ex: Age of a person, Income of a person, Subscription of any platform like Netflix, Disney, Hotstar etc.`"
      ]
    },
    {
      "cell_type": "markdown",
      "id": "8da9150f",
      "metadata": {
        "id": "8da9150f"
      },
      "source": [
        "![Screenshot%202024-06-14%20112814.png](attachment:Screenshot%202024-06-14%20112814.png)"
      ]
    },
    {
      "cell_type": "markdown",
      "id": "9d440745",
      "metadata": {
        "id": "9d440745"
      },
      "source": [
        "## <font color = 'Maroon'>Probability Distribution\n",
        "\n",
        "It lists out all the possible outcomes in the sample space with their probabilites.\n",
        "\n",
        "**<font color = 'Blue'>Types of Probability Distributions:</font>**\n",
        "\n",
        "**<font color = 'Green'> 1. Discrete Probability Distributions</font>**\n",
        "\n",
        "**1.1. Binomial Distribution**: Describes the number of successes in a fixed number of independent Bernoulli trials (e.g., number of heads in 10 coin tosses).\n",
        "\n",
        "**1.2. Poisson Distribution**: Gives the probability of a given number of events happening in a fixed interval of time or space (e.g., number of emails received in an hour).\n",
        "\n",
        "**<font color = 'Green'>2. Continuous Probability Distributions</font>**\n",
        "\n",
        "**2.1. Normal Distribution**: Also known as the bell curve, it describes data that clusters around a mean. It is characterized by its mean (μ) and standard deviation (σ).\n",
        "\n",
        "**2.2. Exponential Distribution**: Describes the time between events in a Poisson process, where events occur continuously and independently at a constant average rate.\n",
        "\n",
        "**2.3. Continuous Uniform Distribution**: All outcomes are equally likely within a certain range."
      ]
    },
    {
      "cell_type": "markdown",
      "id": "40f10a65",
      "metadata": {
        "id": "40f10a65"
      },
      "source": [
        "### <font color = 'Blue'>Some Key Concepts</font>:\n",
        "\n",
        "**Probability Mass Function (PMF)**: Used for discrete random variables, it gives the probability that a discrete random variable is exactly equal to some value.\n",
        "\n",
        "**Probability Density Function (PDF)**: Used for continuous random variables, it describes the likelihood of a random variable to take on a particular value. The probability of the variable falling within a particular range is given by the area under the curve of the PDF over that range.\n",
        "\n",
        "**Cumulative Distribution Function (CDF)**: This function gives the probability that a random variable is less than or equal to a certain value. It is applicable to both discrete and continuous random variables."
      ]
    },
    {
      "cell_type": "markdown",
      "id": "161891ff",
      "metadata": {
        "id": "161891ff"
      },
      "source": [
        "## <font color = 'Maroon'>Discrete Probability Distributions\n",
        "\n",
        "A discrete probability distribution is a type of probability distribution that shows all possible values of a discrete random variable along with the associated probabilities. A discrete random variable is one that has a finite or countable number of possible outcomes.\n",
        "\n",
        "Consider the roll of a fair six-sided die. The possible outcomes are `{1, 2, 3, 4, 5, 6}`, and each outcome has a probability of `1/6`."
      ]
    },
    {
      "cell_type": "markdown",
      "id": "fec4f18a",
      "metadata": {
        "id": "fec4f18a"
      },
      "source": [
        "### <font color = 'Blue'>1. Bernoulli Distribution\n",
        "\n",
        "The Bernoulli distribution is a discrete probability distribution for a random variable that can take on only two possible outcomes: success (1) and failure (0). The probability of success is denoted by 𝑝 and the probability of failure is 1−𝑝.\n",
        "\n",
        "**Example:**\n",
        "A coin flip can be modeled by a Bernoulli distribution where the probability of getting heads(success) is p=0.5."
      ]
    },
    {
      "cell_type": "markdown",
      "id": "5704383c",
      "metadata": {
        "id": "5704383c"
      },
      "source": [
        "### <font color = 'Blue'>2. Binomial Distribution\n",
        "\n",
        "The binomial distribution is a discrete probability distribution that models the number of successes in a fixed number of independent Bernoulli trials. Each trial has the same probability of success 𝑝.\n",
        "\n",
        "**Example:** If a fair coin is flipped 10 times, the probability of getting exactly 5 heads can be calculated using the binomial distribution with n=10 and 𝑝=0.5."
      ]
    },
    {
      "cell_type": "markdown",
      "id": "d793e76f",
      "metadata": {
        "id": "d793e76f"
      },
      "source": [
        "### <font color = 'Green'>Probability Mass Functions\n",
        "\n",
        "A probability mass function (PMF) is the probability function that defines the probability of observing a particular value of a discrete random variable. For example, a PMF can be used to calculate the probability of rolling a three on a fair six-sided die.\n",
        "\n",
        "For example, suppose that we flip a fair coin some number of times and count the number of heads. The probability mass function that describes the likelihood of each possible outcome (eg., 0 heads, 1 head, 2 heads, etc.) is called the binomial distribution. The parameters for the binomial distribution are:\n",
        "\n",
        "- `n` for the number of trials (eg., n=10 if we flip a coin 10 times)\n",
        "- `p` for the probability of success in each trial (probability of observing a particular outcome in each trial. In this example, p= 0.5 because the probability of observing heads on a fair coin flip is 0.5)"
      ]
    },
    {
      "cell_type": "markdown",
      "id": "dc377e9d",
      "metadata": {
        "id": "dc377e9d"
      },
      "source": [
        "If we flip a fair coin 10 times, we say that the number of observed heads follows a Binomial(n=10, p=0.5) distribution. The graph below shows the probability mass function for this experiment. The heights of the bars represent the probability of observing each possible outcome as calculated by the PMF.\n",
        "\n",
        "![Binomial Graph](https://static-assets.codecademy.com/skillpaths/master-stats-ii/probability-distributions/binom_pmf_10_5.svg)"
      ]
    },
    {
      "cell_type": "markdown",
      "id": "dbb5e7c4",
      "metadata": {
        "id": "dbb5e7c4"
      },
      "source": [
        "The binom.pmf() method from the scipy.stats library can be used to calculate the PMF of the binomial distribution at any value. This method takes 3 values:\n",
        "\n",
        "- `x:` the value of interest\n",
        "- `n:` the number of trials\n",
        "- `p:` the probability of success\n",
        "\n",
        "For example, suppose we flip a fair coin 10 times and count the number of heads. We can use the binom.pmf() function to calculate the probability of observing 6 heads as follows:"
      ]
    },
    {
      "cell_type": "code",
      "execution_count": null,
      "id": "f9ae34a0",
      "metadata": {
        "id": "f9ae34a0",
        "outputId": "31e7953c-72e1-4a29-ee07-1b08c2f7b679"
      },
      "outputs": [
        {
          "name": "stdout",
          "output_type": "stream",
          "text": [
            "0.2050781249999999\n"
          ]
        }
      ],
      "source": [
        "import scipy.stats as stats\n",
        "\n",
        "#stats.binom.pmf(x, n, p)\n",
        "print(stats.binom.pmf(6, 10, 0.5))"
      ]
    },
    {
      "cell_type": "markdown",
      "id": "301ec510",
      "metadata": {
        "id": "301ec510"
      },
      "source": [
        "**Using the Probability Mass Function Over a Range**\n",
        "\n",
        "We have seen that we can calculate the probability of observing a specific value using a probability mass function. What if we want to find the probability of observing a range of values for a discrete random variable? One way we could do this is by adding up the probability of each value.\n",
        "\n",
        "For example, let’s say we flip a fair coin 5 times, and want to know the probability of getting between 1 and 3 heads. We can visualize this scenario with the probability mass function:\n",
        "\n",
        "<img src=\"https://static-assets.codecademy.com/skillpaths/master-stats-ii/probability-distributions/Binomial-Distribution-PMF-Probability-over-a-Range.gif\" width=\"600\" height=\"400\">\n",
        "\n",
        "\n",
        "- P(1to3heads)=P(1<=X<=3)\n",
        "- P(1to3heads)=P(X=1)+P(X=2)+P(X=3)\n",
        "- P(1to3heads)=0.1562+0.3125+0.3125\n",
        "- P(1to3heads)=0.7812\n",
        "\n",
        "For further experimenting with above examples visit [this](https://static-assets.codecademy.com/skillpaths/master-stats-ii/probability-distributions/binomial-range_v2/index.html)"
      ]
    },
    {
      "cell_type": "code",
      "execution_count": null,
      "id": "c1b49dce",
      "metadata": {
        "id": "c1b49dce",
        "outputId": "08897671-fb47-4264-eaee-006802f6cecf"
      },
      "outputs": [
        {
          "name": "stdout",
          "output_type": "stream",
          "text": [
            "0.36621093750000033\n"
          ]
        }
      ],
      "source": [
        "import scipy.stats as stats\n",
        "\n",
        "# calculating P(2-4 heads) = P(2 heads) + P(3 heads) + P(4 heads) for flipping a coin 10 times\n",
        "print(stats.binom.pmf(2, n=10, p=.5) +\n",
        "      stats.binom.pmf(3, n=10, p=.5) + stats.binom.pmf(4, n=10, p=.5))"
      ]
    },
    {
      "cell_type": "code",
      "execution_count": null,
      "id": "11364dd0",
      "metadata": {
        "id": "11364dd0",
        "outputId": "26ef2e32-6970-478a-c9b9-f91c2d2d47e6"
      },
      "outputs": [
        {
          "name": "stdout",
          "output_type": "stream",
          "text": [
            "0.9892578125000009\n"
          ]
        }
      ],
      "source": [
        "import scipy.stats as stats\n",
        "\n",
        "#probability of observing 8 or fewer heads from 10 coin flips\n",
        "print(stats.binom.pmf(0, n = 10, p = 0.5) +\n",
        "stats.binom.pmf(1, n = 10, p = 0.5) +\n",
        "stats.binom.pmf(2, n = 10, p = 0.5) +\n",
        "stats.binom.pmf(3, n = 10, p = 0.5) +\n",
        "stats.binom.pmf(4, n = 10, p = 0.5) +\n",
        "stats.binom.pmf(5, n = 10, p = 0.5) +\n",
        "stats.binom.pmf(6, n = 10, p = 0.5) +\n",
        "stats.binom.pmf(7, n = 10, p = 0.5) +\n",
        "stats.binom.pmf(8, n = 10, p = 0.5))"
      ]
    },
    {
      "cell_type": "markdown",
      "id": "d3aae85a",
      "metadata": {
        "id": "d3aae85a"
      },
      "source": [
        "### <font color = 'Green'>Cumulative Distribution Function\n",
        "\n",
        "The cumulative distribution function for a discrete random variable can be derived from the probability mass function. However, instead of the probability of observing a specific value, the cumulative distribution function gives the probability of observing a specific value OR LESS.\n",
        "\n",
        "As previously discussed, the probabilities for all possible values in a given probability distribution add up to 1. The value of a cumulative distribution function at a given value is equal to the sum of the probabilities lower than it, with a value of 1 for the largest possible number.\n",
        "\n",
        "Cumulative distribution functions are constantly increasing, so for two different numbers that the random variable could take on, the value of the function will always be greater for the larger number. Mathematically, this is represented as:\n",
        "- `If x1 < x2 : CDF(x1) < CDF(x2)`\n",
        "\n",
        "We saw how the probability mass function can be used to calculate the probability of observing less than 3 heads out of 10 coin flips by adding up the probabilities of observing 0, 1, and 2 heads. The cumulative distribution function produces the same answer by evaluating the function at CDF(X=2). In this case, `using the CDF is simpler than the PMF` because it requires one calculation rather than three.\n",
        "\n",
        "Ex : `P(3 <= X <= 6) = P(X <= 6) - P(X < 3)`"
      ]
    },
    {
      "cell_type": "code",
      "execution_count": null,
      "id": "770be3d0",
      "metadata": {
        "id": "770be3d0",
        "outputId": "d8a4f5ec-4483-4ec6-d1e4-a5b6c2e1e01e"
      },
      "outputs": [
        {
          "name": "stdout",
          "output_type": "stream",
          "text": [
            "0.828125\n"
          ]
        }
      ],
      "source": [
        "import scipy.stats as stats\n",
        "\n",
        "# P(6 or fewer heads) = P(0 to 6 heads)\n",
        "print(stats.binom.cdf(6, 10, 0.5))"
      ]
    },
    {
      "cell_type": "code",
      "execution_count": null,
      "id": "0e68151b",
      "metadata": {
        "id": "0e68151b",
        "outputId": "a07d01aa-caee-475f-e969-55dc7e382d00"
      },
      "outputs": [
        {
          "name": "stdout",
          "output_type": "stream",
          "text": [
            "0.8173828125\n"
          ]
        }
      ],
      "source": [
        "import scipy.stats as stats\n",
        "\n",
        "#P(4 to 8 heads) = P(0 to 8 heads) - P(0 to 3 heads)\n",
        "print(stats.binom.cdf(8, 10, 0.5) - stats.binom.cdf(3, 10, 0.5))"
      ]
    },
    {
      "cell_type": "code",
      "execution_count": null,
      "id": "591c250f",
      "metadata": {
        "id": "591c250f",
        "outputId": "1af5aba6-742d-4651-a1cf-0a2352e4d508"
      },
      "outputs": [
        {
          "name": "stdout",
          "output_type": "stream",
          "text": [
            "0.17187499999999994\n",
            "vs\n",
            "0.17187500000000014\n"
          ]
        }
      ],
      "source": [
        "print(stats.binom.cdf(3, 10, 0.5))\n",
        "\n",
        "print('vs')\n",
        "\n",
        "print(stats.binom.pmf(0, n=10, p=.5) +\n",
        "      stats.binom.pmf(1, n=10, p=.5) +\n",
        "      stats.binom.pmf(2, n=10, p=.5) + stats.binom.pmf(3, n=10, p=.5))"
      ]
    },
    {
      "cell_type": "markdown",
      "id": "6977d8f4",
      "metadata": {
        "id": "6977d8f4"
      },
      "source": [
        "### <font color = 'Blue'>3. Poisson Distribution\n",
        "\n",
        "The Poisson distribution is a discrete probability distribution that expresses the probability of a given number of events occurring in a fixed interval of time or space, provided these events happen with a known constant mean rate and independently of the time since the last event.\n",
        "\n",
        "The Poisson distribution is characterized by the parameter λ (lambda), which is the average number of occurrences in the given interval.\n",
        "\n",
        "\n",
        "\n",
        "`Poisson Distribution` is a discrete probability distribution so it can be described as PMF and CDF."
      ]
    },
    {
      "cell_type": "markdown",
      "id": "d97b1ea0",
      "metadata": {
        "id": "d97b1ea0"
      },
      "source": [
        "Suppose a call center receives an average of 10 calls per hour. We want to find the probability that the call center will receive exactly 5 calls in the next hour.\n",
        "\n",
        "Given: λ=10 (average number of calls per hour) and k=5 (number of calls we are interested in)"
      ]
    },
    {
      "cell_type": "code",
      "execution_count": null,
      "id": "79a1af9d",
      "metadata": {
        "id": "79a1af9d",
        "outputId": "d3458201-511d-4ca2-832f-202cde5c636e"
      },
      "outputs": [
        {
          "name": "stdout",
          "output_type": "stream",
          "text": [
            "The probability of receiving exactly 5 calls in the next hour is: 0.0378 or 3.78%\n"
          ]
        }
      ],
      "source": [
        "import scipy.stats as stats\n",
        "\n",
        "lambda_ = 10  # average number of calls per hour\n",
        "k = 5  # number of calls we are interested in\n",
        "\n",
        "# Calculate the probability\n",
        "probability = stats.poisson.pmf(k, lambda_)\n",
        "\n",
        "print(f\"The probability of receiving exactly {k} calls in the next hour is: {probability:.4f} or {round((probability*100), 2)}%\")"
      ]
    },
    {
      "cell_type": "code",
      "execution_count": null,
      "id": "c45e154f",
      "metadata": {
        "id": "c45e154f",
        "outputId": "12dddcc9-be9b-4ab3-828c-0d00a942fa91"
      },
      "outputs": [
        {
          "name": "stdout",
          "output_type": "stream",
          "text": [
            "The probability of receiving exactly 5 calls in the next hour is: 0.2198 or 21.98%\n"
          ]
        }
      ],
      "source": [
        "# expected value = 10 calls between 1-2PM, probability of observing 12-14 calls\n",
        "probability2 = stats.poisson.pmf(12, 10) + stats.poisson.pmf(13, 10) + stats.poisson.pmf(14, 10)\n",
        "\n",
        "print(f\"The probability of receiving exactly {k} calls in the next hour is: {probability2:.4f} or {round((probability2*100), 2)}%\")"
      ]
    },
    {
      "cell_type": "code",
      "execution_count": null,
      "id": "d7f1c5f8",
      "metadata": {
        "id": "d7f1c5f8",
        "outputId": "5b4faf94-a37c-493a-c631-099cba604078"
      },
      "outputs": [
        {
          "data": {
            "text/plain": [
              "0.130141420882483"
            ]
          },
          "execution_count": 5,
          "metadata": {},
          "output_type": "execute_result"
        }
      ],
      "source": [
        "# expected value = 10, probability of observing 6 or less\n",
        "stats.poisson.cdf(6, 10)"
      ]
    },
    {
      "cell_type": "code",
      "execution_count": null,
      "id": "1ac2c2de",
      "metadata": {
        "id": "1ac2c2de",
        "outputId": "74c17dca-5ecc-4964-8057-c51a1e4282e9"
      },
      "outputs": [
        {
          "data": {
            "text/plain": [
              "0.30322385369689386"
            ]
          },
          "execution_count": 6,
          "metadata": {},
          "output_type": "execute_result"
        }
      ],
      "source": [
        "# expected value = 10, probability of observing 12 or more\n",
        "1 - stats.poisson.cdf(11, 10)"
      ]
    },
    {
      "cell_type": "code",
      "execution_count": null,
      "id": "986dc8d3",
      "metadata": {
        "id": "986dc8d3",
        "outputId": "01e9c25f-babe-420a-e997-14d1a60afd92"
      },
      "outputs": [
        {
          "data": {
            "text/plain": [
              "0.29603734909303947"
            ]
          },
          "execution_count": 7,
          "metadata": {},
          "output_type": "execute_result"
        }
      ],
      "source": [
        "# expected value = 10, probability of observing between 12 and 18\n",
        "stats.poisson.cdf(18, 10) - stats.poisson.cdf(11, 10)"
      ]
    },
    {
      "cell_type": "markdown",
      "id": "fe087930",
      "metadata": {
        "id": "fe087930"
      },
      "source": [
        "#### <font color = 'Blue'>Use Cases of Poisson Distribution\n",
        "\n",
        "**Number of Defects in Manufacturing**:\n",
        "A factory produces light bulbs, and on average, 2% of the bulbs are defective. If a sample of 100 bulbs is taken, the probability of finding exactly 3 defective bulbs can be calculated using the Poisson distribution with λ=2 (since λ=np=100×0.02).\n",
        "\n",
        "**Arrival of Customers at a Restaurant**:\n",
        "A restaurant receives an average of 20 customers per hour. To find the probability that exactly 15 customers will arrive in the next hour, use λ=20 and k=15.\n",
        "\n",
        "**Traffic Accidents**:\n",
        "If a particular intersection averages 3 traffic accidents per month, the probability of having exactly 2 accidents in a month can be calculated with λ=3 and k=2."
      ]
    },
    {
      "cell_type": "markdown",
      "id": "0ec30063",
      "metadata": {
        "id": "0ec30063"
      },
      "source": [
        "## <font color = 'Maroon'>Continuous Probability Distribution\n",
        "\n",
        "A continuous probability distribution describes the probabilities of the possible values of a continuous random variable. Unlike discrete random variables, which have a finite or countable number of possible values, continuous random variables can take on any value within a given range. This range is infinite and uncountable, meaning that the variable can assume an infinite number of values within any interval."
      ]
    },
    {
      "cell_type": "markdown",
      "id": "bad7238a",
      "metadata": {
        "id": "bad7238a"
      },
      "source": [
        "### <font color = 'Blue'>1. Normal Distribution</font>\n",
        "\n",
        "It is a continuous probability distribution characterized by its symmetric, bell-shaped curve. This distribution is crucial for various statistical analyses and modeling techniques used in data science."
      ]
    },
    {
      "cell_type": "markdown",
      "id": "320e56cf",
      "metadata": {
        "id": "320e56cf"
      },
      "source": [
        "![c101b0da6ea1a0dab31f80d9963b0368_orig.png](attachment:c101b0da6ea1a0dab31f80d9963b0368_orig.png)"
      ]
    },
    {
      "cell_type": "markdown",
      "id": "74b2c6a0",
      "metadata": {
        "id": "74b2c6a0"
      },
      "source": [
        "### Skewness\n",
        "\n",
        "**Definition**: Skewness is a statistical measure that describes the asymmetry of a probability distribution around its mean. It indicates whether the data points are skewed to the left (negative skew) or to the right (positive skew) relative to the mean.\n",
        "\n",
        "**Types of Skewness**:\n",
        "\n",
        "1. `Positive Skewness (Right-Skewed)`: The tail on the right side of the distribution is longer or fatter than the left side. In this case, the mean is greater than the median.\n",
        "2. `Negative Skewness (Left-Skewed)`: The tail on the left side of the distribution is longer or fatter than the right side. Here, the mean is less than the median.\n",
        "3. `Zero Skewness`: The distribution is perfectly symmetrical around the mean, indicating no skewness.\n",
        "\n",
        "**Examples**:\n",
        "\n",
        "1. `Right-Skewed Distribution`: Income distribution in a population where a small number of people earn significantly more than the majority.\n",
        "2. `Left-Skewed Distribution`: Age at retirement, where most people retire around a certain age, but a few retire much earlier."
      ]
    },
    {
      "cell_type": "markdown",
      "id": "c9f02ebb",
      "metadata": {
        "id": "c9f02ebb"
      },
      "source": [
        "### Kurtosis\n",
        "\n",
        "**Definition**: Kurtosis is a statistical measure that describes the \"tailedness\" of the probability distribution of a real-valued random variable. It indicates the presence of outliers in the distribution.\n",
        "\n",
        "**Types of Kurtosis**:\n",
        "\n",
        "1. `Mesokurtic`: Distributions with (kurtosis = 3) is similar to the normal distribution . These distributions have moderate tails and a moderate peak.\n",
        "\n",
        "2. `Leptokurtic`: Distributions with positive excess kurtosis (kurtosis > 3). These distributions have heavy tails and a sharp peak, indicating more frequent extreme values. **Example**: Stock market returns, where extreme gains or losses are more common.\n",
        "\n",
        "3. `Platykurtic`: Distributions with negative excess kurtosis (kurtosis < 3). These distributions have light tails and a flat peak, indicating fewer extreme values. **Example**: Uniform distribution, where values are evenly spread and extreme values are rare.\n",
        "\n",
        "![kurtosis-01-desktop.png](attachment:kurtosis-01-desktop.png)"
      ]
    },
    {
      "cell_type": "markdown",
      "id": "74a4af24",
      "metadata": {
        "id": "74a4af24"
      },
      "source": [
        "### <font color = 'Green'>Probability Density Functions\n",
        "\n",
        "Similar to how discrete random variables relate to probability mass functions, continuous random variables relate to probability density functions. They define the probability distributions of continuous random variables and span across all possible values that the given random variable can take on.\n",
        "\n",
        "When graphed, a probability density function is a curve across all possible values the random variable can take on, and the total area under this curve adds up to 1.\n",
        "\n",
        "The following image shows a probability density function. The highlighted area represents the probability of observing a value within the highlighted range.\n",
        "\n",
        "<img src=\"https://static-assets.codecademy.com/skillpaths/master-stats-ii/probability-distributions/Adding-Area.gif\" width=\"600\" height=\"400\">"
      ]
    },
    {
      "cell_type": "markdown",
      "id": "6711cfc0",
      "metadata": {
        "id": "6711cfc0"
      },
      "source": [
        "In a probability density function, we cannot calculate the probability at a single point. This is because the area of the curve underneath a single point is always zero. The gif below showcases this.\n",
        "\n",
        "<img src=\"https://static-assets.codecademy.com/skillpaths/master-stats-ii/probability-distributions/Normal-Distribution-Area-to-Zero.gif\" width=\"600\" height=\"400\">\n",
        "\n",
        "As we can see from the visual above, as the interval becomes smaller, the width of the area under the curve becomes smaller as well. When trying to evaluate the area under the curve at a specific point, the width of that area becomes 0, and therefore the probability equals 0."
      ]
    },
    {
      "cell_type": "markdown",
      "id": "16e642f7",
      "metadata": {
        "id": "16e642f7"
      },
      "source": [
        "Let’s say we want to know the probability that a randomly chosen woman is less than 158 cm tall. We can use the cumulative distribution function to calculate the area under the probability density function curve from 0 to 158 to find that probability.\n",
        "\n",
        "![pdf](https://static-assets.codecademy.com/skillpaths/master-stats-ii/probability-distributions/norm_pdf_167_8_filled.svg)"
      ]
    },
    {
      "cell_type": "code",
      "execution_count": null,
      "id": "35aa4911",
      "metadata": {
        "id": "35aa4911",
        "outputId": "54f0b37a-fba5-493c-a670-f565bb853f45"
      },
      "outputs": [
        {
          "name": "stdout",
          "output_type": "stream",
          "text": [
            "0.11410165094812996\n"
          ]
        }
      ],
      "source": [
        "import scipy.stats as stats\n",
        "#x : value of interest\n",
        "#loc: mean of the distribution\n",
        "#scale : std dev of the distribution\n",
        "\n",
        "# stats.norm.cdf(x, loc, scale)\n",
        "print(stats.norm.cdf(158, 167.64, 8))"
      ]
    },
    {
      "cell_type": "markdown",
      "id": "27f74c12",
      "metadata": {
        "id": "27f74c12"
      },
      "source": [
        "**Demo: Some examples on the Normal Distribution and Z-Score calculations**"
      ]
    },
    {
      "cell_type": "markdown",
      "id": "1deb609c",
      "metadata": {
        "id": "1deb609c"
      },
      "source": [
        "## <font color = 'Maroon'>Population vs Sample\n",
        "\n",
        "**`Population`**\n",
        "The population in statistics refers to the entire group that is the subject of the study. It includes all the individuals or items that meet a particular set of criteria. The population is the complete set of observations or elements that share a common characteristic and is of interest to the researcher.\n",
        "\n",
        "**Example:**\n",
        "If you were studying the average income of households in a city, the population would be all the households in that city. Every single household, regardless of size or income level, is part of the population.\n",
        "\n",
        "**`Sample:`**\n",
        "A sample is a subset of the population that is selected for the actual study. It is not always feasible or practical to collect data from an entire population, so researchers choose a representative sample to draw conclusions about the population. The goal is to ensure that the sample is representative enough that findings from the sample can be generalized to the entire population.\n",
        "\n",
        "**Example:**\n",
        "In the household income study mentioned earlier, it might be impractical to survey every single household in the city. Instead, a researcher might select a random sample of, say, 500 households to study. The 500 households form the sample, and the researcher uses the data collected from this sample to make inferences about the income of all households in the city."
      ]
    },
    {
      "cell_type": "markdown",
      "id": "70081fb4",
      "metadata": {
        "id": "70081fb4"
      },
      "source": [
        "### <font color = 'Blue'>Sampling Techniques\n",
        "\n",
        "Let's take a look at some commonly used sampling techniques:\n",
        "\n",
        "1. Simple random sampling\n",
        "2. Stratified sampling\n",
        "3. Systematic sampling\n",
        "4. Cluster sampling"
      ]
    },
    {
      "cell_type": "markdown",
      "id": "7c96854b",
      "metadata": {
        "id": "7c96854b"
      },
      "source": [
        "**1. Simple Random Sampling**\n",
        "\n",
        "**Definition**: Simple random sampling is a probability sampling method where each member of the population has an equal chance of being selected. This method ensures that the sample is unbiased and representative of the population.\n",
        "\n",
        "**Example**: A researcher wants to survey 100 students out of a school of 1000 students about their food preferences. Each student is assigned a number from 1 to 1000, and a random number generator is used to pick 100 numbers. The students corresponding to these numbers are surveyed.\n",
        "\n",
        "**When to Use**: Use simple random sampling when you have a complete list of the population and want to ensure that every member has an equal chance of being selected. It is suitable for small to moderately sized populations where the list of members is accessible.\n",
        "\n",
        "---\n",
        "\n",
        "**2. Stratified Sampling**\n",
        "\n",
        "**Definition**: Stratified sampling involves dividing the population into subgroups (strata) based on shared characteristics and then randomly sampling from each stratum. This method ensures that each subgroup is adequately represented in the sample.\n",
        "\n",
        "**Example**: A researcher studying the GPA of college students might divide the population into strata based on majors (e.g., English, Science, Engineering) and then randomly select students from each major in proportion to their representation in the population.\n",
        "\n",
        "**When to Use**: Use stratified sampling when the population has distinct subgroups, and you want to ensure that each subgroup is represented. It is particularly useful when there are significant differences between strata that could affect the study's outcome.\n",
        "\n",
        "---\n",
        "\n",
        "**3. Systematic Sampling**\n",
        "\n",
        "**Definition**: Systematic sampling is a probability sampling method where the researcher selects every nth member from the population list after a random starting point.\n",
        "\n",
        "**Example**: A researcher wants to survey 200 customers out of a population of 2000. They decide to select every 10th customer after randomly choosing a starting point between 1 and 10.\n",
        "\n",
        "**When to Use**: Use systematic sampling when you have a large, ordered population and want to ensure an even spread of the sample across the population. It is suitable for large populations where a complete list is available, and random selection is impractical.\n",
        "\n",
        "---\n",
        "\n",
        "**4. Cluster Sampling**\n",
        "\n",
        "**Definition**: Cluster sampling involves dividing the population into clusters, usually based on geographical or organizational boundaries, and then randomly selecting entire clusters for the sample.\n",
        "\n",
        "**Example**: A researcher studying the health outcomes of school children might divide the population into clusters based on schools. They then randomly select a few schools and include all students from those schools in the sample.\n",
        "\n",
        "**When to Use**: Use cluster sampling when the population is large and geographically dispersed, making it impractical to conduct simple random sampling. It is suitable for studies where the population is naturally divided into clusters."
      ]
    },
    {
      "cell_type": "markdown",
      "id": "fee2f160",
      "metadata": {
        "id": "fee2f160"
      },
      "source": [
        "### Central Limit Theorem\n",
        "\n",
        "The Central Limit Theorem (CLT) is a fundamental concept in statistics and plays a crucial role in data science. It states that, regardless of the shape of the original population distribution, the sampling distribution of the sample mean will be approximately normally distributed for sufficiently `large sample sizes(n > 30)`.\n",
        "\n",
        "**It says**:\n",
        "\n",
        "1. Take any Data.\n",
        "2. Make multiple samples with replacement from the dataset. Each sample size must be more than 30 (the bigger the sample size, the better).\n",
        "3. Suppose we took 500 or 1000 samples from the data, now take means of all the various samples we have taken.\n",
        "4. We get 500 or 1000 sample means. We plot the sample means and check the distribution of the sample means. This is also known as 'Sampling Distribution of Sample Mean'.\n",
        "5. They will always follow Normal Distribution."
      ]
    },
    {
      "cell_type": "markdown",
      "id": "bf49cb34",
      "metadata": {
        "id": "bf49cb34"
      },
      "source": [
        "**Let's see an example to verify the Central Limit Theorem claim**."
      ]
    },
    {
      "cell_type": "code",
      "execution_count": null,
      "id": "343286fc",
      "metadata": {
        "id": "343286fc"
      },
      "outputs": [],
      "source": [
        "import pandas as pd\n",
        "import numpy as np\n",
        "import matplotlib.pyplot as plt\n",
        "import seaborn as sns\n",
        "\n",
        "#to supress any warnings in the notebook\n",
        "import warnings\n",
        "warnings.filterwarnings('ignore')"
      ]
    },
    {
      "cell_type": "code",
      "execution_count": null,
      "id": "829067dc",
      "metadata": {
        "id": "829067dc"
      },
      "outputs": [],
      "source": [
        "data = pd.read_csv('exp_data.csv')"
      ]
    },
    {
      "cell_type": "code",
      "execution_count": null,
      "id": "32377ea7",
      "metadata": {
        "id": "32377ea7",
        "outputId": "2a3b7d13-8544-4c18-e2a0-740d578a9173"
      },
      "outputs": [
        {
          "data": {
            "text/html": [
              "<div>\n",
              "<style scoped>\n",
              "    .dataframe tbody tr th:only-of-type {\n",
              "        vertical-align: middle;\n",
              "    }\n",
              "\n",
              "    .dataframe tbody tr th {\n",
              "        vertical-align: top;\n",
              "    }\n",
              "\n",
              "    .dataframe thead th {\n",
              "        text-align: right;\n",
              "    }\n",
              "</style>\n",
              "<table border=\"1\" class=\"dataframe\">\n",
              "  <thead>\n",
              "    <tr style=\"text-align: right;\">\n",
              "      <th></th>\n",
              "      <th>VAL</th>\n",
              "    </tr>\n",
              "  </thead>\n",
              "  <tbody>\n",
              "    <tr>\n",
              "      <th>0</th>\n",
              "      <td>362</td>\n",
              "    </tr>\n",
              "    <tr>\n",
              "      <th>1</th>\n",
              "      <td>361</td>\n",
              "    </tr>\n",
              "    <tr>\n",
              "      <th>2</th>\n",
              "      <td>360</td>\n",
              "    </tr>\n",
              "    <tr>\n",
              "      <th>3</th>\n",
              "      <td>359</td>\n",
              "    </tr>\n",
              "    <tr>\n",
              "      <th>4</th>\n",
              "      <td>358</td>\n",
              "    </tr>\n",
              "  </tbody>\n",
              "</table>\n",
              "</div>"
            ],
            "text/plain": [
              "   VAL\n",
              "0  362\n",
              "1  361\n",
              "2  360\n",
              "3  359\n",
              "4  358"
            ]
          },
          "execution_count": 3,
          "metadata": {},
          "output_type": "execute_result"
        }
      ],
      "source": [
        "data.head()"
      ]
    },
    {
      "cell_type": "code",
      "execution_count": null,
      "id": "4f502415",
      "metadata": {
        "id": "4f502415",
        "outputId": "b8b214b0-791c-4e6b-c541-7451b959d708"
      },
      "outputs": [
        {
          "data": {
            "image/png": "[encoded data removed]",
            "text/plain": [
              "<Figure size 640x480 with 1 Axes>"
            ]
          },
          "metadata": {},
          "output_type": "display_data"
        }
      ],
      "source": [
        "data.VAL.plot.hist(bins=40)\n",
        "plt.show()"
      ]
    },
    {
      "cell_type": "markdown",
      "id": "2b1f1a09",
      "metadata": {
        "id": "2b1f1a09"
      },
      "source": [
        "Let's pick samples from this distribution, record their means, and plot the sampling distribution."
      ]
    },
    {
      "cell_type": "code",
      "execution_count": null,
      "id": "6bacd2a3",
      "metadata": {
        "id": "6bacd2a3"
      },
      "outputs": [],
      "source": [
        "sample_means = [data.VAL.sample(50).mean() for i in range(1000)]\n",
        "sample_means = pd.Series(sample_means)"
      ]
    },
    {
      "cell_type": "code",
      "execution_count": null,
      "id": "553d2338",
      "metadata": {
        "id": "553d2338",
        "outputId": "fbaa5a31-d246-4caa-d8e7-b8e3deda9b88"
      },
      "outputs": [
        {
          "data": {
            "image/png": "[encoded data removed]",
            "text/plain": [
              "<Figure size 640x480 with 1 Axes>"
            ]
          },
          "metadata": {},
          "output_type": "display_data"
        }
      ],
      "source": [
        "sns.set()\n",
        "sns.kdeplot(sample_means)\n",
        "plt.show()"
      ]
    },
    {
      "cell_type": "markdown",
      "id": "8dbb22ef",
      "metadata": {
        "id": "8dbb22ef"
      },
      "source": [
        "As we can clearly see in the above plot, the sampling distribution is almost a normal distribution."
      ]
    },
    {
      "cell_type": "markdown",
      "id": "77d93de9",
      "metadata": {
        "id": "77d93de9"
      },
      "source": [
        "Thus, no matter the parent population distribution, when you take samples, compute their means and find the sampling distribution, it will always be normal, or at least nearly normal. This is one of the most important implications of the Central Limit Theorem."
      ]
    },
    {
      "cell_type": "code",
      "execution_count": null,
      "id": "085ec2ac",
      "metadata": {
        "id": "085ec2ac",
        "outputId": "0fbf5cd5-a382-48ce-c68b-c6cbf4530025"
      },
      "outputs": [
        {
          "name": "stdout",
          "output_type": "stream",
          "text": [
            "130.64061999999998\n",
            "130.4181654676259\n"
          ]
        }
      ],
      "source": [
        "print(sample_means.mean())\n",
        "print(data.VAL.mean())"
      ]
    },
    {
      "cell_type": "markdown",
      "id": "356d9062",
      "metadata": {
        "id": "356d9062"
      },
      "source": [
        "As we can see above, our sampling distribution mean is very close to population mean when we took samples greater than 30. If we take bigger samples, our sample means will be more close to population mean and hence more accurate."
      ]
    },
    {
      "cell_type": "markdown",
      "id": "fb1d97e6",
      "metadata": {
        "id": "fb1d97e6"
      },
      "source": [
        "**Key Takaway from Central Limit Theorem**:\n",
        "\n",
        "We don't have to take 1000 samples and perform the entire experiment that we have seen above. That was just a theoretical exercise. Instead we just have to take one sample from the population data and the sample size should be more than 30. We can assume that our sample will be normally distributed."
      ]
    },
    {
      "cell_type": "markdown",
      "id": "773a9496",
      "metadata": {
        "id": "773a9496"
      },
      "source": [
        "### Now coming back to Inferential Statistics concept"
      ]
    },
    {
      "cell_type": "markdown",
      "id": "84725f99",
      "metadata": {
        "id": "84725f99"
      },
      "source": [
        "The main aim of Inferential Statistics is to calculate population mean using the sample mean. Many times we don't have enough time and resources to collect entire population data, so we take a large enough sample and infer the population mean from the sample mean.\n",
        "\n",
        "- First, we need to make sure that we take a sample which is representative of the population otherwise our inference will be inaccurate. We have various sampling techniques to collect appropriate samples.\n",
        "\n",
        "- Next we calculate the sample mean and infer the population mean from the sample mean.\n",
        "\n",
        "- But the population mean will be not same as sample mean. So we represent:\n",
        "    - `Population Mean = Sample Means +/- Margin of Error`.\n",
        "    \n",
        "- We can easily calculate the sample mean from the collected sample data but we need to understand how to find the margin of error."
      ]
    },
    {
      "cell_type": "markdown",
      "id": "070c4f04",
      "metadata": {
        "id": "070c4f04"
      },
      "source": [
        "### Estimating the Population Mean:\n",
        "\n",
        "One thing we can say is that `Population mean = Sample Mean`, it would be called as `Point Estimate`.\n",
        "\n",
        "**`Point Estimate:`** A point estimate refers to a single value derived from sample data that serves as the best approximation of the population parameter(for example the Population Mean). Point estimates are often not very accurate so rather we should use `interval estimate`.\n",
        "\n",
        "**`Interval Estimate:`** Provides a range of values within which the population mean is expected to lie, along with a specified level of confidence.\n",
        "\n",
        "With interval estimate, we use three confidence levels - 90%, 95% and 99%. When we attach a certain confidence level with the interval, we call it as `Confidence Interval`.\n",
        "\n",
        "`The y% confidence interval would be calculated following the steps below`:\n",
        "\n",
        "1. First, take a sample of size n.\n",
        "\n",
        "2. Then, find the mean $\\bar{X}$ and standard deviation S of this sample.\n",
        "\n",
        "3. Now, you can say that for a y% confidence level, the confidence interval for the population mean $\\mu$ is given by $(\\bar{X}-\\frac{Z^{*}S}{\\sqrt{n}}, \\bar{X}+\\frac{Z^{*}S}{\\sqrt{n}})$.\n",
        "\n",
        "The Central Limit Theorem lets you assume that the sample mean would be normally distributed, with mean $\\mu$ and standard deviation $\\frac{\\sigma}{\\sqrt{n}}$ (approx. $\\frac{S}{\\sqrt{n}}$). Using this assumption, it is possible to find the margin of error, confidence interval, etc."
      ]
    },
    {
      "cell_type": "markdown",
      "id": "aba72080",
      "metadata": {
        "id": "aba72080"
      },
      "source": [
        "The Z* in above confidence Interval Formula is the Z-score for certain confidence level:\n",
        "\n",
        "![Screenshot%202024-06-20%20234753.png](attachment:Screenshot%202024-06-20%20234753.png)"
      ]
    },
    {
      "cell_type": "markdown",
      "id": "0f3d26a2",
      "metadata": {
        "id": "0f3d26a2"
      },
      "source": [
        "#### Let's look at a real life example to understand the use of confidence interval:"
      ]
    },
    {
      "cell_type": "markdown",
      "id": "d7bc643f",
      "metadata": {
        "id": "d7bc643f"
      },
      "source": [
        "**Scenario**: An engineer believes a new manufacturing process will change the number of defective widgets produced per day, which is currently 50. After implementing the new process, the sample mean number of defects per day is 45 with a standard deviation of 5, based on 30 days of data. The engineer wants to construct a 95% confidence interval for the true mean number of defects."
      ]
    },
    {
      "cell_type": "markdown",
      "id": "fd6079b2",
      "metadata": {
        "id": "fd6079b2"
      },
      "source": [
        "![Screenshot%202024-06-21%20001502.png](attachment:Screenshot%202024-06-21%20001502.png)"
      ]
    },
    {
      "cell_type": "code",
      "execution_count": null,
      "id": "a5ff6b68",
      "metadata": {
        "id": "a5ff6b68"
      },
      "outputs": [],
      "source": []
    }
  ],
  "metadata": {
    "kernelspec": {
      "display_name": "Python 3 (ipykernel)",
      "language": "python",
      "name": "python3"
    },
    "language_info": {
      "codemirror_mode": {
        "name": "ipython",
        "version": 3
      },
      "file_extension": ".py",
      "mimetype": "text/x-python",
      "name": "python",
      "nbconvert_exporter": "python",
      "pygments_lexer": "ipython3",
      "version": "3.11.7"
    },
    "colab": {
      "provenance": [],
      "include_colab_link": true
    }
  },
  "nbformat": 4,
  "nbformat_minor": 5
}