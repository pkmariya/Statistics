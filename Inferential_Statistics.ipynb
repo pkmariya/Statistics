{
  "cells": [
    {
      "cell_type": "markdown",
      "metadata": {
        "id": "view-in-github",
        "colab_type": "text"
      },
      "source": [
        "<a href=\"https://colab.research.google.com/github/pkmariya/Statistics/blob/main/Inferential_Statistics.ipynb\" target=\"_parent\"><img src=\"https://colab.research.google.com/assets/colab-badge.svg\" alt=\"Open In Colab\"/></a>"
      ]
    },
    {
      "cell_type": "markdown",
      "id": "369b2183",
      "metadata": {
        "id": "369b2183"
      },
      "source": [
        "Consider that Walmart's Quality Control department wants to know how much of company’s products in its warehouses are defective. For this, the team can simply select a `small sample of 1000 products` instead of inspecting all the products in the warehouse(which would be impossible to inspect). It can then find the defect rate (i.e., the proportion of defective products) for the sample, based on which it can further infer the defect rate for all the products in the warehouses.\n",
        "\n",
        "This process of deriving insights or drawing inferences from sample data is called `inferential statistics`. Situations like the one above arise all the time in big companies like Amazon and Flipkart, among others."
      ]
    },
    {
      "cell_type": "markdown",
      "id": "4e921b01",
      "metadata": {
        "id": "4e921b01"
      },
      "source": [
        "`Inferential Statistics is used in the industry in multiple ways like:`\n",
        "\n",
        "**1.Finance: Risk Assessment**\n",
        "\n",
        "Financial institutions use inferential statistics to assess and manage risks. This includes predicting market trends, estimating the likelihood of default on loans, and analyzing investment portfolios.\n",
        "\n",
        "**2.Marketing: Consumer Surveys**\n",
        "\n",
        "In marketing, inferential statistics are employed to make inferences about the preferences and behaviors of a target market based on survey data, helping businesses make informed decisions about product development and advertising strategies.\n",
        "\n",
        "**3.Manufacturing: Quality Control**\n",
        "\n",
        "Inferential statistics are used in quality control processes to make inferences about the quality of products based on a sample of items, helping manufacturers maintain consistent product quality.\n",
        "\n",
        "**4.Retail: Demand Forecasting**\n",
        "\n",
        "In retail, inferential statistics are applied to analyze past sales data and make predictions about future demand for products, optimizing inventory management and supply chain logistics.\n",
        "\n",
        "**5.Telecommunications: Network Performance**\n",
        "\n",
        "Telecom companies use inferential statistics to assess network performance by analyzing data from a sample of users, helping them make inferences about the quality and reliability of their services for the entire user base."
      ]
    },
    {
      "cell_type": "markdown",
      "id": "14561359",
      "metadata": {
        "id": "14561359"
      },
      "source": [
        "## <font color = 'Maroon'>Probability\n",
        "\n",
        "Probability can be defined as the measure of certainty(or uncertainty) that a certain event or\n",
        "outcome will occur given a certain random process. It is represented numerically\n",
        "as a number between zero and one. The probabilities of zero and one both represent certainty.\n",
        "\n",
        "**Probability measures the likelihood that an event will occur. Probability values have two properties:**\n",
        "\n",
        "`They always lie in the range of 0 to 1.` The value is 0 when an event is impossible (for example, the probability of you being in India and America at the same time) and 1 when an event is sure to occur (for example, the probability of the sun rising in the East tomorrow).\n",
        "\n",
        "`The sum of the probabilities of all outcomes of an experiment is always 1.` For instance, in a coin toss, there can be two outcomes: heads or tails. Each outcome has a probability of 0.5. Hence, the sum of the probabilities is 0.5 + 0.5 = 1."
      ]
    },
    {
      "cell_type": "markdown",
      "id": "ed483d7b",
      "metadata": {
        "id": "ed483d7b"
      },
      "source": [
        "### Probability Terminologies\n",
        "\n",
        "**Experiment** is a process or action that results in one of several possible outcomes. Examples include tossing a coin, rolling a die, or drawing a card from a deck.\n",
        "\n",
        "**Random Experiment** is an experiment or process for which the outcome cannot be predicted with certainty. Each performance of the experiment is called a trial.\n",
        "\n",
        "**Outcome** is a possible result of an experiment. For example, when rolling a six-sided dice, the possible outcomes are 1, 2, 3, 4, 5, and 6.\n",
        "\n",
        "**Sample Space** is a set of all possible outcomes of an experiment. Tossing two coins : {HH, HT, TT, TH}.\n",
        "\n",
        "**Event** An event is a subset of the sample space. It consists of one or more outcomes. For example, getting an even number when rolling a die is an event that includes the outcomes {2,4,6}.\n",
        "\n",
        "**Favourable Outcome** is an outcome that satisfies the event of interest. For example, if the event is rolling a number greater than 4 on a die, the favorable outcomes are 5 and 6."
      ]
    },
    {
      "cell_type": "markdown",
      "id": "8df17d8e",
      "metadata": {
        "id": "8df17d8e"
      },
      "source": [
        "### Random Variables\n",
        "\n",
        "Random Variables are variables that represent the outcomes of a random experiment. For example, the collection of outcomes of a series of coin tosses is a random Variable. Here the possible set of outcomes are just two - Heads & Tails. If we map Heads to the number 1 and Tails to 0. Then the Random Variable could look something like (1,1,0,1,0,0,1,0) for eight coin flips. The values of a Random\n",
        "Variable can change the next time it is recorded, but they can only contain a specific set of values.\n",
        "\n",
        "A random variable is denoted with a capital letter (typically, X, Y, Z, etc.), and specific values are denoted with lowercase letters (e.g., X = x or X ≤ x).\n",
        "\n",
        "Ex: Tossing two coins together\n",
        "\n",
        "- X=0 if both tosses result in no heads. `P(X=0) = 1/4`\n",
        "- X=1 if one of the tosses results in heads. `P(X=1) = 2/4 = 1/2`\n",
        "- X=2 if both tosses result in heads. `P(X=2) = 1/4`\n",
        "\n",
        "**Random Variables are of two types:**\n",
        "\n",
        "1. **Discrete RV:** They take a fixed set of possible outcomes. Each outcome has an associated probability. `Ex: Number of heads in two tosses, The creditworthiness of a loan applicant, Marital Status, Gender etc.`\n",
        "\n",
        "2. **Continuous RV:** They can take any value within a range. `Ex: Age of a person, Income of a person, Subscription of any platform like Netflix, Disney, Hotstar etc.`"
      ]
    },
    {
      "cell_type": "markdown",
      "id": "8da9150f",
      "metadata": {
        "id": "8da9150f"
      },
      "source": [
        "![Screenshot%202024-06-14%20112814.png](attachment:Screenshot%202024-06-14%20112814.png)"
      ]
    },
    {
      "cell_type": "markdown",
      "id": "9d440745",
      "metadata": {
        "id": "9d440745"
      },
      "source": [
        "## <font color = 'Maroon'>Probability Distribution\n",
        "\n",
        "It lists out all the possible outcomes in the sample space with their probabilites.\n",
        "\n",
        "**<font color = 'Blue'>Types of Probability Distributions:</font>**\n",
        "\n",
        "**<font color = 'Green'> 1. Discrete Probability Distributions</font>**\n",
        "\n",
        "**1.1. Binomial Distribution**: Describes the number of successes in a fixed number of independent Bernoulli trials (e.g., number of heads in 10 coin tosses).\n",
        "\n",
        "**1.2. Poisson Distribution**: Gives the probability of a given number of events happening in a fixed interval of time or space (e.g., number of emails received in an hour).\n",
        "\n",
        "**<font color = 'Green'>2. Continuous Probability Distributions</font>**\n",
        "\n",
        "**2.1. Normal Distribution**: Also known as the bell curve, it describes data that clusters around a mean. It is characterized by its mean (μ) and standard deviation (σ).\n",
        "\n",
        "**2.2. Exponential Distribution**: Describes the time between events in a Poisson process, where events occur continuously and independently at a constant average rate.\n",
        "\n",
        "**2.3. Continuous Uniform Distribution**: All outcomes are equally likely within a certain range."
      ]
    },
    {
      "cell_type": "markdown",
      "id": "40f10a65",
      "metadata": {
        "id": "40f10a65"
      },
      "source": [
        "### <font color = 'Blue'>Some Key Concepts</font>:\n",
        "\n",
        "**Probability Mass Function (PMF)**: Used for discrete random variables, it gives the probability that a discrete random variable is exactly equal to some value.\n",
        "\n",
        "**Probability Density Function (PDF)**: Used for continuous random variables, it describes the likelihood of a random variable to take on a particular value. The probability of the variable falling within a particular range is given by the area under the curve of the PDF over that range.\n",
        "\n",
        "**Cumulative Distribution Function (CDF)**: This function gives the probability that a random variable is less than or equal to a certain value. It is applicable to both discrete and continuous random variables."
      ]
    },
    {
      "cell_type": "markdown",
      "id": "161891ff",
      "metadata": {
        "id": "161891ff"
      },
      "source": [
        "## <font color = 'Maroon'>Discrete Probability Distributions\n",
        "\n",
        "A discrete probability distribution is a type of probability distribution that shows all possible values of a discrete random variable along with the associated probabilities. A discrete random variable is one that has a finite or countable number of possible outcomes.\n",
        "\n",
        "Consider the roll of a fair six-sided die. The possible outcomes are `{1, 2, 3, 4, 5, 6}`, and each outcome has a probability of `1/6`."
      ]
    },
    {
      "cell_type": "markdown",
      "id": "fec4f18a",
      "metadata": {
        "id": "fec4f18a"
      },
      "source": [
        "### <font color = 'Blue'>1. Bernoulli Distribution\n",
        "\n",
        "The Bernoulli distribution is a discrete probability distribution for a random variable that can take on only two possible outcomes: success (1) and failure (0). The probability of success is denoted by 𝑝 and the probability of failure is 1−𝑝.\n",
        "\n",
        "**Example:**\n",
        "A coin flip can be modeled by a Bernoulli distribution where the probability of getting heads(success) is p=0.5."
      ]
    },
    {
      "cell_type": "markdown",
      "id": "5704383c",
      "metadata": {
        "id": "5704383c"
      },
      "source": [
        "### <font color = 'Blue'>2. Binomial Distribution\n",
        "\n",
        "The binomial distribution is a discrete probability distribution that models the number of successes in a fixed number of independent Bernoulli trials. Each trial has the same probability of success 𝑝.\n",
        "\n",
        "**Example:** If a fair coin is flipped 10 times, the probability of getting exactly 5 heads can be calculated using the binomial distribution with n=10 and 𝑝=0.5."
      ]
    },
    {
      "cell_type": "markdown",
      "id": "d793e76f",
      "metadata": {
        "id": "d793e76f"
      },
      "source": [
        "### <font color = 'Green'>Probability Mass Functions\n",
        "\n",
        "A probability mass function (PMF) is the probability function that defines the probability of observing a particular value of a discrete random variable. For example, a PMF can be used to calculate the probability of rolling a three on a fair six-sided die.\n",
        "\n",
        "For example, suppose that we flip a fair coin some number of times and count the number of heads. The probability mass function that describes the likelihood of each possible outcome (eg., 0 heads, 1 head, 2 heads, etc.) is called the binomial distribution. The parameters for the binomial distribution are:\n",
        "\n",
        "- `n` for the number of trials (eg., n=10 if we flip a coin 10 times)\n",
        "- `p` for the probability of success in each trial (probability of observing a particular outcome in each trial. In this example, p= 0.5 because the probability of observing heads on a fair coin flip is 0.5)"
      ]
    },
    {
      "cell_type": "markdown",
      "id": "dc377e9d",
      "metadata": {
        "id": "dc377e9d"
      },
      "source": [
        "If we flip a fair coin 10 times, we say that the number of observed heads follows a Binomial(n=10, p=0.5) distribution. The graph below shows the probability mass function for this experiment. The heights of the bars represent the probability of observing each possible outcome as calculated by the PMF.\n",
        "\n",
        "![Binomial Graph](https://static-assets.codecademy.com/skillpaths/master-stats-ii/probability-distributions/binom_pmf_10_5.svg)"
      ]
    },
    {
      "cell_type": "markdown",
      "id": "dbb5e7c4",
      "metadata": {
        "id": "dbb5e7c4"
      },
      "source": [
        "The binom.pmf() method from the scipy.stats library can be used to calculate the PMF of the binomial distribution at any value. This method takes 3 values:\n",
        "\n",
        "- `x:` the value of interest\n",
        "- `n:` the number of trials\n",
        "- `p:` the probability of success\n",
        "\n",
        "For example, suppose we flip a fair coin 10 times and count the number of heads. We can use the binom.pmf() function to calculate the probability of observing 6 heads as follows:"
      ]
    },
    {
      "cell_type": "code",
      "execution_count": null,
      "id": "f9ae34a0",
      "metadata": {
        "id": "f9ae34a0",
        "outputId": "31e7953c-72e1-4a29-ee07-1b08c2f7b679"
      },
      "outputs": [
        {
          "name": "stdout",
          "output_type": "stream",
          "text": [
            "0.2050781249999999\n"
          ]
        }
      ],
      "source": [
        "import scipy.stats as stats\n",
        "\n",
        "#stats.binom.pmf(x, n, p)\n",
        "print(stats.binom.pmf(6, 10, 0.5))"
      ]
    },
    {
      "cell_type": "markdown",
      "id": "301ec510",
      "metadata": {
        "id": "301ec510"
      },
      "source": [
        "**Using the Probability Mass Function Over a Range**\n",
        "\n",
        "We have seen that we can calculate the probability of observing a specific value using a probability mass function. What if we want to find the probability of observing a range of values for a discrete random variable? One way we could do this is by adding up the probability of each value.\n",
        "\n",
        "For example, let’s say we flip a fair coin 5 times, and want to know the probability of getting between 1 and 3 heads. We can visualize this scenario with the probability mass function:\n",
        "\n",
        "<img src=\"https://static-assets.codecademy.com/skillpaths/master-stats-ii/probability-distributions/Binomial-Distribution-PMF-Probability-over-a-Range.gif\" width=\"600\" height=\"400\">\n",
        "\n",
        "\n",
        "- P(1to3heads)=P(1<=X<=3)\n",
        "- P(1to3heads)=P(X=1)+P(X=2)+P(X=3)\n",
        "- P(1to3heads)=0.1562+0.3125+0.3125\n",
        "- P(1to3heads)=0.7812\n",
        "\n",
        "For further experimenting with above examples visit [this](https://static-assets.codecademy.com/skillpaths/master-stats-ii/probability-distributions/binomial-range_v2/index.html)"
      ]
    },
    {
      "cell_type": "code",
      "execution_count": null,
      "id": "c1b49dce",
      "metadata": {
        "id": "c1b49dce",
        "outputId": "08897671-fb47-4264-eaee-006802f6cecf"
      },
      "outputs": [
        {
          "name": "stdout",
          "output_type": "stream",
          "text": [
            "0.36621093750000033\n"
          ]
        }
      ],
      "source": [
        "import scipy.stats as stats\n",
        "\n",
        "# calculating P(2-4 heads) = P(2 heads) + P(3 heads) + P(4 heads) for flipping a coin 10 times\n",
        "print(stats.binom.pmf(2, n=10, p=.5) +\n",
        "      stats.binom.pmf(3, n=10, p=.5) + stats.binom.pmf(4, n=10, p=.5))"
      ]
    },
    {
      "cell_type": "code",
      "execution_count": null,
      "id": "11364dd0",
      "metadata": {
        "id": "11364dd0",
        "outputId": "26ef2e32-6970-478a-c9b9-f91c2d2d47e6"
      },
      "outputs": [
        {
          "name": "stdout",
          "output_type": "stream",
          "text": [
            "0.9892578125000009\n"
          ]
        }
      ],
      "source": [
        "import scipy.stats as stats\n",
        "\n",
        "#probability of observing 8 or fewer heads from 10 coin flips\n",
        "print(stats.binom.pmf(0, n = 10, p = 0.5) +\n",
        "stats.binom.pmf(1, n = 10, p = 0.5) +\n",
        "stats.binom.pmf(2, n = 10, p = 0.5) +\n",
        "stats.binom.pmf(3, n = 10, p = 0.5) +\n",
        "stats.binom.pmf(4, n = 10, p = 0.5) +\n",
        "stats.binom.pmf(5, n = 10, p = 0.5) +\n",
        "stats.binom.pmf(6, n = 10, p = 0.5) +\n",
        "stats.binom.pmf(7, n = 10, p = 0.5) +\n",
        "stats.binom.pmf(8, n = 10, p = 0.5))"
      ]
    },
    {
      "cell_type": "markdown",
      "id": "d3aae85a",
      "metadata": {
        "id": "d3aae85a"
      },
      "source": [
        "### <font color = 'Green'>Cumulative Distribution Function\n",
        "\n",
        "The cumulative distribution function for a discrete random variable can be derived from the probability mass function. However, instead of the probability of observing a specific value, the cumulative distribution function gives the probability of observing a specific value OR LESS.\n",
        "\n",
        "As previously discussed, the probabilities for all possible values in a given probability distribution add up to 1. The value of a cumulative distribution function at a given value is equal to the sum of the probabilities lower than it, with a value of 1 for the largest possible number.\n",
        "\n",
        "Cumulative distribution functions are constantly increasing, so for two different numbers that the random variable could take on, the value of the function will always be greater for the larger number. Mathematically, this is represented as:\n",
        "- `If x1 < x2 : CDF(x1) < CDF(x2)`\n",
        "\n",
        "We saw how the probability mass function can be used to calculate the probability of observing less than 3 heads out of 10 coin flips by adding up the probabilities of observing 0, 1, and 2 heads. The cumulative distribution function produces the same answer by evaluating the function at CDF(X=2). In this case, `using the CDF is simpler than the PMF` because it requires one calculation rather than three.\n",
        "\n",
        "Ex : `P(3 <= X <= 6) = P(X <= 6) - P(X < 3)`"
      ]
    },
    {
      "cell_type": "code",
      "execution_count": null,
      "id": "770be3d0",
      "metadata": {
        "id": "770be3d0",
        "outputId": "d8a4f5ec-4483-4ec6-d1e4-a5b6c2e1e01e"
      },
      "outputs": [
        {
          "name": "stdout",
          "output_type": "stream",
          "text": [
            "0.828125\n"
          ]
        }
      ],
      "source": [
        "import scipy.stats as stats\n",
        "\n",
        "# P(6 or fewer heads) = P(0 to 6 heads)\n",
        "print(stats.binom.cdf(6, 10, 0.5))"
      ]
    },
    {
      "cell_type": "code",
      "execution_count": null,
      "id": "0e68151b",
      "metadata": {
        "id": "0e68151b",
        "outputId": "a07d01aa-caee-475f-e969-55dc7e382d00"
      },
      "outputs": [
        {
          "name": "stdout",
          "output_type": "stream",
          "text": [
            "0.8173828125\n"
          ]
        }
      ],
      "source": [
        "import scipy.stats as stats\n",
        "\n",
        "#P(4 to 8 heads) = P(0 to 8 heads) - P(0 to 3 heads)\n",
        "print(stats.binom.cdf(8, 10, 0.5) - stats.binom.cdf(3, 10, 0.5))"
      ]
    },
    {
      "cell_type": "code",
      "execution_count": null,
      "id": "591c250f",
      "metadata": {
        "id": "591c250f",
        "outputId": "1af5aba6-742d-4651-a1cf-0a2352e4d508"
      },
      "outputs": [
        {
          "name": "stdout",
          "output_type": "stream",
          "text": [
            "0.17187499999999994\n",
            "vs\n",
            "0.17187500000000014\n"
          ]
        }
      ],
      "source": [
        "print(stats.binom.cdf(3, 10, 0.5))\n",
        "\n",
        "print('vs')\n",
        "\n",
        "print(stats.binom.pmf(0, n=10, p=.5) +\n",
        "      stats.binom.pmf(1, n=10, p=.5) +\n",
        "      stats.binom.pmf(2, n=10, p=.5) + stats.binom.pmf(3, n=10, p=.5))"
      ]
    },
    {
      "cell_type": "markdown",
      "id": "6977d8f4",
      "metadata": {
        "id": "6977d8f4"
      },
      "source": [
        "### <font color = 'Blue'>3. Poisson Distribution\n",
        "\n",
        "The Poisson distribution is a discrete probability distribution that expresses the probability of a given number of events occurring in a fixed interval of time or space, provided these events happen with a known constant mean rate and independently of the time since the last event.\n",
        "\n",
        "The Poisson distribution is characterized by the parameter λ (lambda), which is the average number of occurrences in the given interval.\n",
        "\n",
        "\n",
        "\n",
        "`Poisson Distribution` is a discrete probability distribution so it can be described as PMF and CDF."
      ]
    },
    {
      "cell_type": "markdown",
      "id": "d97b1ea0",
      "metadata": {
        "id": "d97b1ea0"
      },
      "source": [
        "Suppose a call center receives an average of 10 calls per hour. We want to find the probability that the call center will receive exactly 5 calls in the next hour.\n",
        "\n",
        "Given: λ=10 (average number of calls per hour) and k=5 (number of calls we are interested in)"
      ]
    },
    {
      "cell_type": "code",
      "execution_count": null,
      "id": "79a1af9d",
      "metadata": {
        "id": "79a1af9d",
        "outputId": "d3458201-511d-4ca2-832f-202cde5c636e"
      },
      "outputs": [
        {
          "name": "stdout",
          "output_type": "stream",
          "text": [
            "The probability of receiving exactly 5 calls in the next hour is: 0.0378 or 3.78%\n"
          ]
        }
      ],
      "source": [
        "import scipy.stats as stats\n",
        "\n",
        "lambda_ = 10  # average number of calls per hour\n",
        "k = 5  # number of calls we are interested in\n",
        "\n",
        "# Calculate the probability\n",
        "probability = stats.poisson.pmf(k, lambda_)\n",
        "\n",
        "print(f\"The probability of receiving exactly {k} calls in the next hour is: {probability:.4f} or {round((probability*100), 2)}%\")"
      ]
    },
    {
      "cell_type": "code",
      "execution_count": null,
      "id": "c45e154f",
      "metadata": {
        "id": "c45e154f",
        "outputId": "12dddcc9-be9b-4ab3-828c-0d00a942fa91"
      },
      "outputs": [
        {
          "name": "stdout",
          "output_type": "stream",
          "text": [
            "The probability of receiving exactly 5 calls in the next hour is: 0.2198 or 21.98%\n"
          ]
        }
      ],
      "source": [
        "# expected value = 10 calls between 1-2PM, probability of observing 12-14 calls\n",
        "probability2 = stats.poisson.pmf(12, 10) + stats.poisson.pmf(13, 10) + stats.poisson.pmf(14, 10)\n",
        "\n",
        "print(f\"The probability of receiving exactly {k} calls in the next hour is: {probability2:.4f} or {round((probability2*100), 2)}%\")"
      ]
    },
    {
      "cell_type": "code",
      "execution_count": null,
      "id": "d7f1c5f8",
      "metadata": {
        "id": "d7f1c5f8",
        "outputId": "5b4faf94-a37c-493a-c631-099cba604078"
      },
      "outputs": [
        {
          "data": {
            "text/plain": [
              "0.130141420882483"
            ]
          },
          "execution_count": 5,
          "metadata": {},
          "output_type": "execute_result"
        }
      ],
      "source": [
        "# expected value = 10, probability of observing 6 or less\n",
        "stats.poisson.cdf(6, 10)"
      ]
    },
    {
      "cell_type": "code",
      "execution_count": null,
      "id": "1ac2c2de",
      "metadata": {
        "id": "1ac2c2de",
        "outputId": "74c17dca-5ecc-4964-8057-c51a1e4282e9"
      },
      "outputs": [
        {
          "data": {
            "text/plain": [
              "0.30322385369689386"
            ]
          },
          "execution_count": 6,
          "metadata": {},
          "output_type": "execute_result"
        }
      ],
      "source": [
        "# expected value = 10, probability of observing 12 or more\n",
        "1 - stats.poisson.cdf(11, 10)"
      ]
    },
    {
      "cell_type": "code",
      "execution_count": null,
      "id": "986dc8d3",
      "metadata": {
        "id": "986dc8d3",
        "outputId": "01e9c25f-babe-420a-e997-14d1a60afd92"
      },
      "outputs": [
        {
          "data": {
            "text/plain": [
              "0.29603734909303947"
            ]
          },
          "execution_count": 7,
          "metadata": {},
          "output_type": "execute_result"
        }
      ],
      "source": [
        "# expected value = 10, probability of observing between 12 and 18\n",
        "stats.poisson.cdf(18, 10) - stats.poisson.cdf(11, 10)"
      ]
    },
    {
      "cell_type": "markdown",
      "id": "fe087930",
      "metadata": {
        "id": "fe087930"
      },
      "source": [
        "#### <font color = 'Blue'>Use Cases of Poisson Distribution\n",
        "\n",
        "**Number of Defects in Manufacturing**:\n",
        "A factory produces light bulbs, and on average, 2% of the bulbs are defective. If a sample of 100 bulbs is taken, the probability of finding exactly 3 defective bulbs can be calculated using the Poisson distribution with λ=2 (since λ=np=100×0.02).\n",
        "\n",
        "**Arrival of Customers at a Restaurant**:\n",
        "A restaurant receives an average of 20 customers per hour. To find the probability that exactly 15 customers will arrive in the next hour, use λ=20 and k=15.\n",
        "\n",
        "**Traffic Accidents**:\n",
        "If a particular intersection averages 3 traffic accidents per month, the probability of having exactly 2 accidents in a month can be calculated with λ=3 and k=2."
      ]
    },
    {
      "cell_type": "markdown",
      "id": "0ec30063",
      "metadata": {
        "id": "0ec30063"
      },
      "source": [
        "## <font color = 'Maroon'>Continuous Probability Distribution\n",
        "\n",
        "A continuous probability distribution describes the probabilities of the possible values of a continuous random variable. Unlike discrete random variables, which have a finite or countable number of possible values, continuous random variables can take on any value within a given range. This range is infinite and uncountable, meaning that the variable can assume an infinite number of values within any interval."
      ]
    },
    {
      "cell_type": "markdown",
      "id": "bad7238a",
      "metadata": {
        "id": "bad7238a"
      },
      "source": [
        "### <font color = 'Blue'>1. Normal Distribution</font>\n",
        "\n",
        "It is a continuous probability distribution characterized by its symmetric, bell-shaped curve. This distribution is crucial for various statistical analyses and modeling techniques used in data science."
      ]
    },
    {
      "cell_type": "markdown",
      "id": "320e56cf",
      "metadata": {
        "id": "320e56cf"
      },
      "source": [
        "![c101b0da6ea1a0dab31f80d9963b0368_orig.png](attachment:c101b0da6ea1a0dab31f80d9963b0368_orig.png)"
      ]
    },
    {
      "cell_type": "markdown",
      "id": "74b2c6a0",
      "metadata": {
        "id": "74b2c6a0"
      },
      "source": [
        "### Skewness\n",
        "\n",
        "**Definition**: Skewness is a statistical measure that describes the asymmetry of a probability distribution around its mean. It indicates whether the data points are skewed to the left (negative skew) or to the right (positive skew) relative to the mean.\n",
        "\n",
        "**Types of Skewness**:\n",
        "\n",
        "1. `Positive Skewness (Right-Skewed)`: The tail on the right side of the distribution is longer or fatter than the left side. In this case, the mean is greater than the median.\n",
        "2. `Negative Skewness (Left-Skewed)`: The tail on the left side of the distribution is longer or fatter than the right side. Here, the mean is less than the median.\n",
        "3. `Zero Skewness`: The distribution is perfectly symmetrical around the mean, indicating no skewness.\n",
        "\n",
        "**Examples**:\n",
        "\n",
        "1. `Right-Skewed Distribution`: Income distribution in a population where a small number of people earn significantly more than the majority.\n",
        "2. `Left-Skewed Distribution`: Age at retirement, where most people retire around a certain age, but a few retire much earlier."
      ]
    },
    {
      "cell_type": "markdown",
      "id": "c9f02ebb",
      "metadata": {
        "id": "c9f02ebb"
      },
      "source": [
        "### Kurtosis\n",
        "\n",
        "**Definition**: Kurtosis is a statistical measure that describes the \"tailedness\" of the probability distribution of a real-valued random variable. It indicates the presence of outliers in the distribution.\n",
        "\n",
        "**Types of Kurtosis**:\n",
        "\n",
        "1. `Mesokurtic`: Distributions with (kurtosis = 3) is similar to the normal distribution . These distributions have moderate tails and a moderate peak.\n",
        "\n",
        "2. `Leptokurtic`: Distributions with positive excess kurtosis (kurtosis > 3). These distributions have heavy tails and a sharp peak, indicating more frequent extreme values. **Example**: Stock market returns, where extreme gains or losses are more common.\n",
        "\n",
        "3. `Platykurtic`: Distributions with negative excess kurtosis (kurtosis < 3). These distributions have light tails and a flat peak, indicating fewer extreme values. **Example**: Uniform distribution, where values are evenly spread and extreme values are rare.\n",
        "\n",
        "![kurtosis-01-desktop.png](attachment:kurtosis-01-desktop.png)"
      ]
    },
    {
      "cell_type": "markdown",
      "id": "74a4af24",
      "metadata": {
        "id": "74a4af24"
      },
      "source": [
        "### <font color = 'Green'>Probability Density Functions\n",
        "\n",
        "Similar to how discrete random variables relate to probability mass functions, continuous random variables relate to probability density functions. They define the probability distributions of continuous random variables and span across all possible values that the given random variable can take on.\n",
        "\n",
        "When graphed, a probability density function is a curve across all possible values the random variable can take on, and the total area under this curve adds up to 1.\n",
        "\n",
        "The following image shows a probability density function. The highlighted area represents the probability of observing a value within the highlighted range.\n",
        "\n",
        "<img src=\"https://static-assets.codecademy.com/skillpaths/master-stats-ii/probability-distributions/Adding-Area.gif\" width=\"600\" height=\"400\">"
      ]
    },
    {
      "cell_type": "markdown",
      "id": "6711cfc0",
      "metadata": {
        "id": "6711cfc0"
      },
      "source": [
        "In a probability density function, we cannot calculate the probability at a single point. This is because the area of the curve underneath a single point is always zero. The gif below showcases this.\n",
        "\n",
        "<img src=\"https://static-assets.codecademy.com/skillpaths/master-stats-ii/probability-distributions/Normal-Distribution-Area-to-Zero.gif\" width=\"600\" height=\"400\">\n",
        "\n",
        "As we can see from the visual above, as the interval becomes smaller, the width of the area under the curve becomes smaller as well. When trying to evaluate the area under the curve at a specific point, the width of that area becomes 0, and therefore the probability equals 0."
      ]
    },
    {
      "cell_type": "markdown",
      "id": "16e642f7",
      "metadata": {
        "id": "16e642f7"
      },
      "source": [
        "Let’s say we want to know the probability that a randomly chosen woman is less than 158 cm tall. We can use the cumulative distribution function to calculate the area under the probability density function curve from 0 to 158 to find that probability.\n",
        "\n",
        "![pdf](https://static-assets.codecademy.com/skillpaths/master-stats-ii/probability-distributions/norm_pdf_167_8_filled.svg)"
      ]
    },
    {
      "cell_type": "code",
      "execution_count": null,
      "id": "35aa4911",
      "metadata": {
        "id": "35aa4911",
        "outputId": "54f0b37a-fba5-493c-a670-f565bb853f45"
      },
      "outputs": [
        {
          "name": "stdout",
          "output_type": "stream",
          "text": [
            "0.11410165094812996\n"
          ]
        }
      ],
      "source": [
        "import scipy.stats as stats\n",
        "#x : value of interest\n",
        "#loc: mean of the distribution\n",
        "#scale : std dev of the distribution\n",
        "\n",
        "# stats.norm.cdf(x, loc, scale)\n",
        "print(stats.norm.cdf(158, 167.64, 8))"
      ]
    },
    {
      "cell_type": "markdown",
      "id": "27f74c12",
      "metadata": {
        "id": "27f74c12"
      },
      "source": [
        "**Demo: Some examples on the Normal Distribution and Z-Score calculations**"
      ]
    },
    {
      "cell_type": "markdown",
      "id": "1deb609c",
      "metadata": {
        "id": "1deb609c"
      },
      "source": [
        "## <font color = 'Maroon'>Population vs Sample\n",
        "\n",
        "**`Population`**\n",
        "The population in statistics refers to the entire group that is the subject of the study. It includes all the individuals or items that meet a particular set of criteria. The population is the complete set of observations or elements that share a common characteristic and is of interest to the researcher.\n",
        "\n",
        "**Example:**\n",
        "If you were studying the average income of households in a city, the population would be all the households in that city. Every single household, regardless of size or income level, is part of the population.\n",
        "\n",
        "**`Sample:`**\n",
        "A sample is a subset of the population that is selected for the actual study. It is not always feasible or practical to collect data from an entire population, so researchers choose a representative sample to draw conclusions about the population. The goal is to ensure that the sample is representative enough that findings from the sample can be generalized to the entire population.\n",
        "\n",
        "**Example:**\n",
        "In the household income study mentioned earlier, it might be impractical to survey every single household in the city. Instead, a researcher might select a random sample of, say, 500 households to study. The 500 households form the sample, and the researcher uses the data collected from this sample to make inferences about the income of all households in the city."
      ]
    },
    {
      "cell_type": "markdown",
      "id": "70081fb4",
      "metadata": {
        "id": "70081fb4"
      },
      "source": [
        "### <font color = 'Blue'>Sampling Techniques\n",
        "\n",
        "Let's take a look at some commonly used sampling techniques:\n",
        "\n",
        "1. Simple random sampling\n",
        "2. Stratified sampling\n",
        "3. Systematic sampling\n",
        "4. Cluster sampling"
      ]
    },
    {
      "cell_type": "markdown",
      "id": "7c96854b",
      "metadata": {
        "id": "7c96854b"
      },
      "source": [
        "**1. Simple Random Sampling**\n",
        "\n",
        "**Definition**: Simple random sampling is a probability sampling method where each member of the population has an equal chance of being selected. This method ensures that the sample is unbiased and representative of the population.\n",
        "\n",
        "**Example**: A researcher wants to survey 100 students out of a school of 1000 students about their food preferences. Each student is assigned a number from 1 to 1000, and a random number generator is used to pick 100 numbers. The students corresponding to these numbers are surveyed.\n",
        "\n",
        "**When to Use**: Use simple random sampling when you have a complete list of the population and want to ensure that every member has an equal chance of being selected. It is suitable for small to moderately sized populations where the list of members is accessible.\n",
        "\n",
        "---\n",
        "\n",
        "**2. Stratified Sampling**\n",
        "\n",
        "**Definition**: Stratified sampling involves dividing the population into subgroups (strata) based on shared characteristics and then randomly sampling from each stratum. This method ensures that each subgroup is adequately represented in the sample.\n",
        "\n",
        "**Example**: A researcher studying the GPA of college students might divide the population into strata based on majors (e.g., English, Science, Engineering) and then randomly select students from each major in proportion to their representation in the population.\n",
        "\n",
        "**When to Use**: Use stratified sampling when the population has distinct subgroups, and you want to ensure that each subgroup is represented. It is particularly useful when there are significant differences between strata that could affect the study's outcome.\n",
        "\n",
        "---\n",
        "\n",
        "**3. Systematic Sampling**\n",
        "\n",
        "**Definition**: Systematic sampling is a probability sampling method where the researcher selects every nth member from the population list after a random starting point.\n",
        "\n",
        "**Example**: A researcher wants to survey 200 customers out of a population of 2000. They decide to select every 10th customer after randomly choosing a starting point between 1 and 10.\n",
        "\n",
        "**When to Use**: Use systematic sampling when you have a large, ordered population and want to ensure an even spread of the sample across the population. It is suitable for large populations where a complete list is available, and random selection is impractical.\n",
        "\n",
        "---\n",
        "\n",
        "**4. Cluster Sampling**\n",
        "\n",
        "**Definition**: Cluster sampling involves dividing the population into clusters, usually based on geographical or organizational boundaries, and then randomly selecting entire clusters for the sample.\n",
        "\n",
        "**Example**: A researcher studying the health outcomes of school children might divide the population into clusters based on schools. They then randomly select a few schools and include all students from those schools in the sample.\n",
        "\n",
        "**When to Use**: Use cluster sampling when the population is large and geographically dispersed, making it impractical to conduct simple random sampling. It is suitable for studies where the population is naturally divided into clusters."
      ]
    },
    {
      "cell_type": "markdown",
      "id": "fee2f160",
      "metadata": {
        "id": "fee2f160"
      },
      "source": [
        "### Central Limit Theorem\n",
        "\n",
        "The Central Limit Theorem (CLT) is a fundamental concept in statistics and plays a crucial role in data science. It states that, regardless of the shape of the original population distribution, the sampling distribution of the sample mean will be approximately normally distributed for sufficiently `large sample sizes(n > 30)`.\n",
        "\n",
        "**It says**:\n",
        "\n",
        "1. Take any Data.\n",
        "2. Make multiple samples with replacement from the dataset. Each sample size must be more than 30 (the bigger the sample size, the better).\n",
        "3. Suppose we took 500 or 1000 samples from the data, now take means of all the various samples we have taken.\n",
        "4. We get 500 or 1000 sample means. We plot the sample means and check the distribution of the sample means. This is also known as 'Sampling Distribution of Sample Mean'.\n",
        "5. They will always follow Normal Distribution."
      ]
    },
    {
      "cell_type": "markdown",
      "id": "bf49cb34",
      "metadata": {
        "id": "bf49cb34"
      },
      "source": [
        "**Let's see an example to verify the Central Limit Theorem claim**."
      ]
    },
    {
      "cell_type": "code",
      "execution_count": null,
      "id": "343286fc",
      "metadata": {
        "id": "343286fc"
      },
      "outputs": [],
      "source": [
        "import pandas as pd\n",
        "import numpy as np\n",
        "import matplotlib.pyplot as plt\n",
        "import seaborn as sns\n",
        "\n",
        "#to supress any warnings in the notebook\n",
        "import warnings\n",
        "warnings.filterwarnings('ignore')"
      ]
    },
    {
      "cell_type": "code",
      "execution_count": null,
      "id": "829067dc",
      "metadata": {
        "id": "829067dc"
      },
      "outputs": [],
      "source": [
        "data = pd.read_csv('exp_data.csv')"
      ]
    },
    {
      "cell_type": "code",
      "execution_count": null,
      "id": "32377ea7",
      "metadata": {
        "id": "32377ea7",
        "outputId": "2a3b7d13-8544-4c18-e2a0-740d578a9173"
      },
      "outputs": [
        {
          "data": {
            "text/html": [
              "<div>\n",
              "<style scoped>\n",
              "    .dataframe tbody tr th:only-of-type {\n",
              "        vertical-align: middle;\n",
              "    }\n",
              "\n",
              "    .dataframe tbody tr th {\n",
              "        vertical-align: top;\n",
              "    }\n",
              "\n",
              "    .dataframe thead th {\n",
              "        text-align: right;\n",
              "    }\n",
              "</style>\n",
              "<table border=\"1\" class=\"dataframe\">\n",
              "  <thead>\n",
              "    <tr style=\"text-align: right;\">\n",
              "      <th></th>\n",
              "      <th>VAL</th>\n",
              "    </tr>\n",
              "  </thead>\n",
              "  <tbody>\n",
              "    <tr>\n",
              "      <th>0</th>\n",
              "      <td>362</td>\n",
              "    </tr>\n",
              "    <tr>\n",
              "      <th>1</th>\n",
              "      <td>361</td>\n",
              "    </tr>\n",
              "    <tr>\n",
              "      <th>2</th>\n",
              "      <td>360</td>\n",
              "    </tr>\n",
              "    <tr>\n",
              "      <th>3</th>\n",
              "      <td>359</td>\n",
              "    </tr>\n",
              "    <tr>\n",
              "      <th>4</th>\n",
              "      <td>358</td>\n",
              "    </tr>\n",
              "  </tbody>\n",
              "</table>\n",
              "</div>"
            ],
            "text/plain": [
              "   VAL\n",
              "0  362\n",
              "1  361\n",
              "2  360\n",
              "3  359\n",
              "4  358"
            ]
          },
          "execution_count": 3,
          "metadata": {},
          "output_type": "execute_result"
        }
      ],
      "source": [
        "data.head()"
      ]
    },
    {
      "cell_type": "code",
      "execution_count": null,
      "id": "4f502415",
      "metadata": {
        "id": "4f502415",
        "outputId": "b8b214b0-791c-4e6b-c541-7451b959d708"
      },
      "outputs": [
        {
          "data": {
            "image/png": "[encoded data removed]",
            "text/plain": [
              "<Figure size 640x480 with 1 Axes>"
            ]
          },
          "metadata": {},
          "output_type": "display_data"
        }
      ],
      "source": [
        "data.VAL.plot.hist(bins=40)\n",
        "plt.show()"
      ]
    },
    {
      "cell_type": "markdown",
      "id": "2b1f1a09",
      "metadata": {
        "id": "2b1f1a09"
      },
      "source": [
        "Let's pick samples from this distribution, record their means, and plot the sampling distribution."
      ]
    },
    {
      "cell_type": "code",
      "execution_count": null,
      "id": "6bacd2a3",
      "metadata": {
        "id": "6bacd2a3"
      },
      "outputs": [],
      "source": [
        "sample_means = [data.VAL.sample(50).mean() for i in range(1000)]\n",
        "sample_means = pd.Series(sample_means)"
      ]
    },
    {
      "cell_type": "code",
      "execution_count": null,
      "id": "553d2338",
      "metadata": {
        "id": "553d2338",
        "outputId": "fbaa5a31-d246-4caa-d8e7-b8e3deda9b88"
      },
      "outputs": [
        {
          "data": {
            "image/png": "[encoded data removed]",
            "text/plain": [
              "<Figure size 640x480 with 1 Axes>"
            ]
          },
          "metadata": {},
          "output_type": "display_data"
        }
      ],
      "source": [
        "sns.set()\n",
        "sns.kdeplot(sample_means)\n",
        "plt.show()"
      ]
    },
    {
      "cell_type": "markdown",
      "id": "8dbb22ef",
      "metadata": {
        "id": "8dbb22ef"
      },
      "source": [
        "As we can clearly see in the above plot, the sampling distribution is almost a normal distribution."
      ]
    },
    {
      "cell_type": "markdown",
      "id": "77d93de9",
      "metadata": {
        "id": "77d93de9"
      },
      "source": [
        "Thus, no matter the parent population distribution, when you take samples, compute their means and find the sampling distribution, it will always be normal, or at least nearly normal. This is one of the most important implications of the Central Limit Theorem."
      ]
    },
    {
      "cell_type": "code",
      "execution_count": null,
      "id": "085ec2ac",
      "metadata": {
        "id": "085ec2ac",
        "outputId": "0fbf5cd5-a382-48ce-c68b-c6cbf4530025"
      },
      "outputs": [
        {
          "name": "stdout",
          "output_type": "stream",
          "text": [
            "130.64061999999998\n",
            "130.4181654676259\n"
          ]
        }
      ],
      "source": [
        "print(sample_means.mean())\n",
        "print(data.VAL.mean())"
      ]
    },
    {
      "cell_type": "markdown",
      "id": "356d9062",
      "metadata": {
        "id": "356d9062"
      },
      "source": [
        "As we can see above, our sampling distribution mean is very close to population mean when we took samples greater than 30. If we take bigger samples, our sample means will be more close to population mean and hence more accurate."
      ]
    },
    {
      "cell_type": "markdown",
      "id": "fb1d97e6",
      "metadata": {
        "id": "fb1d97e6"
      },
      "source": [
        "**Key Takaway from Central Limit Theorem**:\n",
        "\n",
        "We don't have to take 1000 samples and perform the entire experiment that we have seen above. That was just a theoretical exercise. Instead we just have to take one sample from the population data and the sample size should be more than 30. We can assume that our sample will be normally distributed."
      ]
    },
    {
      "cell_type": "markdown",
      "id": "773a9496",
      "metadata": {
        "id": "773a9496"
      },
      "source": [
        "### Now coming back to Inferential Statistics concept"
      ]
    },
    {
      "cell_type": "markdown",
      "id": "84725f99",
      "metadata": {
        "id": "84725f99"
      },
      "source": [
        "The main aim of Inferential Statistics is to calculate population mean using the sample mean. Many times we don't have enough time and resources to collect entire population data, so we take a large enough sample and infer the population mean from the sample mean.\n",
        "\n",
        "- First, we need to make sure that we take a sample which is representative of the population otherwise our inference will be inaccurate. We have various sampling techniques to collect appropriate samples.\n",
        "\n",
        "- Next we calculate the sample mean and infer the population mean from the sample mean.\n",
        "\n",
        "- But the population mean will be not same as sample mean. So we represent:\n",
        "    - `Population Mean = Sample Means +/- Margin of Error`.\n",
        "    \n",
        "- We can easily calculate the sample mean from the collected sample data but we need to understand how to find the margin of error."
      ]
    },
    {
      "cell_type": "markdown",
      "id": "070c4f04",
      "metadata": {
        "id": "070c4f04"
      },
      "source": [
        "### Estimating the Population Mean:\n",
        "\n",
        "One thing we can say is that `Population mean = Sample Mean`, it would be called as `Point Estimate`.\n",
        "\n",
        "**`Point Estimate:`** A point estimate refers to a single value derived from sample data that serves as the best approximation of the population parameter(for example the Population Mean). Point estimates are often not very accurate so rather we should use `interval estimate`.\n",
        "\n",
        "**`Interval Estimate:`** Provides a range of values within which the population mean is expected to lie, along with a specified level of confidence.\n",
        "\n",
        "With interval estimate, we use three confidence levels - 90%, 95% and 99%. When we attach a certain confidence level with the interval, we call it as `Confidence Interval`.\n",
        "\n",
        "`The y% confidence interval would be calculated following the steps below`:\n",
        "\n",
        "1. First, take a sample of size n.\n",
        "\n",
        "2. Then, find the mean $\\bar{X}$ and standard deviation S of this sample.\n",
        "\n",
        "3. Now, you can say that for a y% confidence level, the confidence interval for the population mean $\\mu$ is given by $(\\bar{X}-\\frac{Z^{*}S}{\\sqrt{n}}, \\bar{X}+\\frac{Z^{*}S}{\\sqrt{n}})$.\n",
        "\n",
        "The Central Limit Theorem lets you assume that the sample mean would be normally distributed, with mean $\\mu$ and standard deviation $\\frac{\\sigma}{\\sqrt{n}}$ (approx. $\\frac{S}{\\sqrt{n}}$). Using this assumption, it is possible to find the margin of error, confidence interval, etc."
      ]
    },
    {
      "cell_type": "markdown",
      "id": "aba72080",
      "metadata": {
        "id": "aba72080"
      },
      "source": [
        "The Z* in above confidence Interval Formula is the Z-score for certain confidence level:\n",
        "\n",
        "![Screenshot%202024-06-20%20234753.png](attachment:Screenshot%202024-06-20%20234753.png)"
      ]
    },
    {
      "cell_type": "markdown",
      "id": "0f3d26a2",
      "metadata": {
        "id": "0f3d26a2"
      },
      "source": [
        "#### Let's look at a real life example to understand the use of confidence interval:"
      ]
    },
    {
      "cell_type": "markdown",
      "id": "d7bc643f",
      "metadata": {
        "id": "d7bc643f"
      },
      "source": [
        "**Scenario**: An engineer believes a new manufacturing process will change the number of defective widgets produced per day, which is currently 50. After implementing the new process, the sample mean number of defects per day is 45 with a standard deviation of 5, based on 30 days of data. The engineer wants to construct a 95% confidence interval for the true mean number of defects.\n",
        "\n",
        "![image.png](data:image/png;base64,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)"
      ]
    },
    {
      "cell_type": "code",
      "execution_count": null,
      "id": "a5ff6b68",
      "metadata": {
        "id": "a5ff6b68"
      },
      "outputs": [],
      "source": []
    }
  ],
  "metadata": {
    "kernelspec": {
      "display_name": "Python 3 (ipykernel)",
      "language": "python",
      "name": "python3"
    },
    "language_info": {
      "codemirror_mode": {
        "name": "ipython",
        "version": 3
      },
      "file_extension": ".py",
      "mimetype": "text/x-python",
      "name": "python",
      "nbconvert_exporter": "python",
      "pygments_lexer": "ipython3",
      "version": "3.11.7"
    },
    "colab": {
      "provenance": [],
      "include_colab_link": true
    }
  },
  "nbformat": 4,
  "nbformat_minor": 5
}